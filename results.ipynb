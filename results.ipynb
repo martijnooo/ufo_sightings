{
 "cells": [
  {
   "cell_type": "markdown",
   "metadata": {},
   "source": [
    "# Results Page\n",
    "\n",
    "This page displays the outcomes of the analysis based on the two hypotheses. The results are derived by importing the necessary functions from the respective hypothesis modules and presenting the findings in a clear and concise manner.\n",
    "\n",
    "## Hypotheses\n",
    "1. **Hypothesis 1**: UFO sightings increase in the weeks following the release of Netflix alien movies.\n",
    "2. **Hypothesis 2**: UFO sightings are more prevalent in countries with higher Netflix usage.\n",
    "\n",
    "## Results"
   ]
  },
  {
   "cell_type": "markdown",
   "metadata": {},
   "source": [
    "### Hypothesis 1\n",
    "- **Result**: No clear relationship between ufo sightings and alien movie releases"
   ]
  },
  {
   "cell_type": "markdown",
   "metadata": {},
   "source": [
    "\n",
    "![Development](results/ufo_sightings_vs_releases.png)"
   ]
  },
  {
   "cell_type": "markdown",
   "metadata": {
    "vscode": {
     "languageId": "plaintext"
    }
   },
   "source": [
    "### Hypothesis 2\n",
    "- **Result**: Weak positive but insignifacnt relationship"
   ]
  },
  {
   "cell_type": "markdown",
   "metadata": {},
   "source": [
    "![Netflix](results/netflix_penetration.png)"
   ]
  },
  {
   "cell_type": "markdown",
   "metadata": {},
   "source": [
    "## Conclusion\n",
    "On no dimension, a signifcant relationship between anything to do with Netflix and ufo sightings has been found."
   ]
  }
 ],
 "metadata": {
  "kernelspec": {
   "display_name": "datasci_env",
   "language": "python",
   "name": "python3"
  },
  "language_info": {
   "codemirror_mode": {
    "name": "ipython",
    "version": 3
   },
   "file_extension": ".py",
   "mimetype": "text/x-python",
   "name": "python",
   "nbconvert_exporter": "python",
   "pygments_lexer": "ipython3",
   "version": "3.8.20"
  }
 },
 "nbformat": 4,
 "nbformat_minor": 2
}
